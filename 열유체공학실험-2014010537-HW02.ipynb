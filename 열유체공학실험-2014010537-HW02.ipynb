{
  "nbformat": 4,
  "nbformat_minor": 0,
  "metadata": {
    "colab": {
      "name": "Untitled0.ipynb",
      "provenance": [],
      "include_colab_link": true
    },
    "kernelspec": {
      "name": "python3",
      "display_name": "Python 3"
    }
  },
  "cells": [
    {
      "cell_type": "markdown",
      "metadata": {
        "id": "view-in-github",
        "colab_type": "text"
      },
      "source": [
        "<a href=\"https://colab.research.google.com/github/shinjungho47/Homework/blob/master/%EC%97%B4%EC%9C%A0%EC%B2%B4%EA%B3%B5%ED%95%99%EC%8B%A4%ED%97%98-2014010537-HW02.ipynb\" target=\"_parent\"><img src=\"https://colab.research.google.com/assets/colab-badge.svg\" alt=\"Open In Colab\"/></a>"
      ]
    },
    {
      "cell_type": "code",
      "metadata": {
        "id": "xHKQPb0gLAKu",
        "colab_type": "code",
        "colab": {
          "base_uri": "https://localhost:8080/",
          "height": 197
        },
        "outputId": "775c166d-10f8-49d5-cedd-c36ba99fc525"
      },
      "source": [
        "#구구단만들기\n",
        "a = int(input(\"입력: \"))\n",
        "for i in range (1,10) :\n",
        "  i== i + 1\n",
        "  result = a * i\n",
        "  print(\"The result of gugudan is : \" + str(result))"
      ],
      "execution_count": 29,
      "outputs": [
        {
          "output_type": "stream",
          "text": [
            "입력: 3\n",
            "The result of gugudan is : 3\n",
            "The result of gugudan is : 6\n",
            "The result of gugudan is : 9\n",
            "The result of gugudan is : 12\n",
            "The result of gugudan is : 15\n",
            "The result of gugudan is : 18\n",
            "The result of gugudan is : 21\n",
            "The result of gugudan is : 24\n",
            "The result of gugudan is : 27\n"
          ],
          "name": "stdout"
        }
      ]
    }
  ]
}