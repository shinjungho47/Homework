{
  "nbformat": 4,
  "nbformat_minor": 0,
  "metadata": {
    "colab": {
      "name": "Untitled0.ipynb",
      "provenance": [],
      "include_colab_link": true
    },
    "kernelspec": {
      "name": "python3",
      "display_name": "Python 3"
    }
  },
  "cells": [
    {
      "cell_type": "markdown",
      "metadata": {
        "id": "view-in-github",
        "colab_type": "text"
      },
      "source": [
        "<a href=\"https://colab.research.google.com/github/shinjungho47/Homework/blob/master/%EC%97%B4%EC%9C%A0%EC%B2%B4%EA%B3%B5%ED%95%99%EC%8B%A4%ED%97%98-2014010537-HW02.ipynb\" target=\"_parent\"><img src=\"https://colab.research.google.com/assets/colab-badge.svg\" alt=\"Open In Colab\"/></a>"
      ]
    },
    {
      "cell_type": "code",
      "metadata": {
        "id": "xHKQPb0gLAKu",
        "colab_type": "code",
        "colab": {}
      },
      "source": [
        "#구구단만들기\n",
        "a = int(input(\"입력: \"))\n",
        "for i in range (1,10) :\n",
        "  i== i + 1\n",
        "  result = a * i\n",
        "  print(\"The result of gugudan is : \" + str(result))"
      ],
      "execution_count": 0,
      "outputs": []
    }
  ]
}